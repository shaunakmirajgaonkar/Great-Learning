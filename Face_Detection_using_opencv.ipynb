{
 "cells": [
  {
   "cell_type": "code",
   "execution_count": 6,
   "id": "2a327055-e47c-4acd-a667-9e4302c872b5",
   "metadata": {},
   "outputs": [],
   "source": [
    "import cv2"
   ]
  },
  {
   "cell_type": "code",
   "execution_count": 9,
   "id": "694904c6-7a18-41df-9be4-f8dba8e8f18e",
   "metadata": {},
   "outputs": [],
   "source": [
    "face_cascade=cv2.CascadeClassifier('face_detector.xml')"
   ]
  },
  {
   "cell_type": "code",
   "execution_count": 10,
   "id": "8187c2ca-f77c-4060-85c8-fd43025cea44",
   "metadata": {},
   "outputs": [],
   "source": [
    "img = cv2.imread('test1.jpg')"
   ]
  },
  {
   "cell_type": "code",
   "execution_count": 11,
   "id": "75b56506-2366-43cd-956c-b4302f7b471a",
   "metadata": {},
   "outputs": [],
   "source": [
    "faces=face_cascade.detectMultiScale(img,1.1,4)"
   ]
  },
  {
   "cell_type": "code",
   "execution_count": 12,
   "id": "820297a0-0e70-47ff-850a-5d855237e58b",
   "metadata": {},
   "outputs": [],
   "source": [
    "for (x,y,w,h) in faces:\n",
    "    cv2.rectangle(img,(x,y),(x+w,y+h),(255,0,0),2)"
   ]
  },
  {
   "cell_type": "code",
   "execution_count": 13,
   "id": "701119c9-94ac-4b09-8523-c0f30a695ab0",
   "metadata": {},
   "outputs": [
    {
     "name": "stdout",
     "output_type": "stream",
     "text": [
      "Photo successfully exported!\n"
     ]
    }
   ],
   "source": [
    "cv2.imwrite(\"face_detected.png\",img)\n",
    "print('Photo successfully exported!')"
   ]
  },
  {
   "cell_type": "code",
   "execution_count": null,
   "id": "6d9a2635-a7ab-4f90-ad8c-551bf422a8ed",
   "metadata": {},
   "outputs": [],
   "source": []
  },
  {
   "cell_type": "code",
   "execution_count": null,
   "id": "4a16adb9-1dea-4435-901e-8a8442498c55",
   "metadata": {},
   "outputs": [],
   "source": []
  }
 ],
 "metadata": {
  "kernelspec": {
   "display_name": "Python 3 (ipykernel)",
   "language": "python",
   "name": "python3"
  },
  "language_info": {
   "codemirror_mode": {
    "name": "ipython",
    "version": 3
   },
   "file_extension": ".py",
   "mimetype": "text/x-python",
   "name": "python",
   "nbconvert_exporter": "python",
   "pygments_lexer": "ipython3",
   "version": "3.12.1"
  }
 },
 "nbformat": 4,
 "nbformat_minor": 5
}
