{
 "cells": [
  {
   "cell_type": "code",
   "execution_count": 1,
   "id": "2827c62e-f475-4e9e-b8f8-d5e05509a64c",
   "metadata": {},
   "outputs": [
    {
     "name": "stdout",
     "output_type": "stream",
     "text": [
      "Collecting pyqrcode\n",
      "  Downloading PyQRCode-1.2.1.zip (41 kB)\n",
      "  Preparing metadata (setup.py) ... \u001b[?25ldone\n",
      "\u001b[?25hBuilding wheels for collected packages: pyqrcode\n",
      "  Building wheel for pyqrcode (setup.py) ... \u001b[?25ldone\n",
      "\u001b[?25h  Created wheel for pyqrcode: filename=PyQRCode-1.2.1-py3-none-any.whl size=36223 sha256=98d8ec695620bcadefe2e05013847409af6735447402c67287c68844aa8df716\n",
      "  Stored in directory: /Users/shaunak/Library/Caches/pip/wheels/38/e3/f8/8940ce720556414aefb861a143102b931d8327f6eaea5733e8\n",
      "Successfully built pyqrcode\n",
      "Installing collected packages: pyqrcode\n",
      "Successfully installed pyqrcode-1.2.1\n"
     ]
    }
   ],
   "source": [
    "!pip install pyqrcode"
   ]
  },
  {
   "cell_type": "code",
   "execution_count": 2,
   "id": "dc4c8915-fccd-48a9-bf2c-6a2f970a6d5f",
   "metadata": {},
   "outputs": [
    {
     "name": "stdout",
     "output_type": "stream",
     "text": [
      "Collecting pypng\n",
      "  Downloading pypng-0.20220715.0-py3-none-any.whl.metadata (13 kB)\n",
      "Downloading pypng-0.20220715.0-py3-none-any.whl (58 kB)\n",
      "Installing collected packages: pypng\n",
      "Successfully installed pypng-0.20220715.0\n"
     ]
    }
   ],
   "source": [
    "!pip install pypng"
   ]
  },
  {
   "cell_type": "code",
   "execution_count": 4,
   "id": "a56494e9-fd68-414f-b7b4-7b30d55e42dd",
   "metadata": {},
   "outputs": [],
   "source": [
    "import pyqrcode\n",
    "import png\n",
    "from pyqrcode import QRCode"
   ]
  },
  {
   "cell_type": "code",
   "execution_count": 5,
   "id": "12eb5485-119f-459c-b26c-fe388ef4b709",
   "metadata": {},
   "outputs": [],
   "source": [
    "site=\"https://www.amazon.in/ref=nav_logo\""
   ]
  },
  {
   "cell_type": "code",
   "execution_count": 7,
   "id": "59ea06e0-301d-46dc-87b3-8859b386bf43",
   "metadata": {},
   "outputs": [],
   "source": [
    "url_qr=pyqrcode.create(site)"
   ]
  },
  {
   "cell_type": "code",
   "execution_count": 8,
   "id": "eba11ec6-687a-428a-b198-e56a165ffbb6",
   "metadata": {},
   "outputs": [],
   "source": [
    "url_qr.svg(\"great.svg\",scale=0)"
   ]
  },
  {
   "cell_type": "code",
   "execution_count": 10,
   "id": "3c770072-ce98-4ab3-b662-911810ca7750",
   "metadata": {},
   "outputs": [],
   "source": [
    "url_qr.png(\"great.png\",scale=6)"
   ]
  },
  {
   "cell_type": "code",
   "execution_count": null,
   "id": "83faeb9d-a08e-4e41-a12b-95d0a09380c6",
   "metadata": {},
   "outputs": [],
   "source": []
  }
 ],
 "metadata": {
  "kernelspec": {
   "display_name": "Python 3 (ipykernel)",
   "language": "python",
   "name": "python3"
  },
  "language_info": {
   "codemirror_mode": {
    "name": "ipython",
    "version": 3
   },
   "file_extension": ".py",
   "mimetype": "text/x-python",
   "name": "python",
   "nbconvert_exporter": "python",
   "pygments_lexer": "ipython3",
   "version": "3.12.1"
  }
 },
 "nbformat": 4,
 "nbformat_minor": 5
}
