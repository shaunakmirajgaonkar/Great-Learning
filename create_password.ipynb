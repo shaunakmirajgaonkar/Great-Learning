{
 "cells": [
  {
   "cell_type": "code",
   "execution_count": 1,
   "id": "cd13360c-2f47-4543-90ba-7d482269d9c7",
   "metadata": {},
   "outputs": [],
   "source": [
    "#Only small string password\n",
    "import random\n",
    "import string"
   ]
  },
  {
   "cell_type": "code",
   "execution_count": 2,
   "id": "ef59c453-49a6-4759-8715-2c98fd1776ff",
   "metadata": {},
   "outputs": [],
   "source": [
    "def generate_Strong_password(len):\n",
    "    alphabets=string.ascii_lowercase\n",
    "    return''.join(random.choice(alphabets) for i in range(len))"
   ]
  },
  {
   "cell_type": "code",
   "execution_count": 4,
   "id": "90f0e8d0-4708-4103-b629-1687c6f2b850",
   "metadata": {},
   "outputs": [],
   "source": [
    "len=9\n",
    "a=generate_Strong_password(len)"
   ]
  },
  {
   "cell_type": "code",
   "execution_count": 5,
   "id": "ffa9d591-b03e-4281-81ef-b06cabf7a9b8",
   "metadata": {},
   "outputs": [
    {
     "data": {
      "text/plain": [
       "'exrzvixmz'"
      ]
     },
     "execution_count": 5,
     "metadata": {},
     "output_type": "execute_result"
    }
   ],
   "source": [
    "a"
   ]
  },
  {
   "cell_type": "code",
   "execution_count": 6,
   "id": "f5d4e307-860f-4f76-a903-9d02d8c1a1be",
   "metadata": {},
   "outputs": [],
   "source": [
    "alphabets=string.ascii_lowercase"
   ]
  },
  {
   "cell_type": "code",
   "execution_count": 7,
   "id": "e9226f57-e0ed-4ca0-a00c-420b620ed7bf",
   "metadata": {},
   "outputs": [],
   "source": [
    "av=random.choice(alphabets)"
   ]
  },
  {
   "cell_type": "code",
   "execution_count": 8,
   "id": "9aa4d17f-fa8a-4992-a8b2-f6ae02baed46",
   "metadata": {},
   "outputs": [
    {
     "data": {
      "text/plain": [
       "'s'"
      ]
     },
     "execution_count": 8,
     "metadata": {},
     "output_type": "execute_result"
    }
   ],
   "source": [
    "av"
   ]
  },
  {
   "cell_type": "code",
   "execution_count": 9,
   "id": "391b218a-7f5c-47b9-aab4-d0b42b68e87a",
   "metadata": {},
   "outputs": [],
   "source": [
    "len=8\n",
    "a=generate_Strong_password(len)"
   ]
  },
  {
   "cell_type": "code",
   "execution_count": 10,
   "id": "73189b87-cd89-4b37-a4b8-517a9cfaf8b6",
   "metadata": {},
   "outputs": [
    {
     "data": {
      "text/plain": [
       "'fimkxgjb'"
      ]
     },
     "execution_count": 10,
     "metadata": {},
     "output_type": "execute_result"
    }
   ],
   "source": [
    "a"
   ]
  },
  {
   "cell_type": "code",
   "execution_count": 11,
   "id": "a89a6ec8-2a50-4d95-a084-5e136187f75f",
   "metadata": {},
   "outputs": [],
   "source": [
    "#Mixed of small and capital letters string passwords\n",
    "def generate_Strong_password(len):\n",
    "    alphabets=string.ascii_lowercase\n",
    "    return''.join(random.choice(alphabets) for i in range(len))"
   ]
  },
  {
   "cell_type": "code",
   "execution_count": 15,
   "id": "568a4a1b-033b-4ff4-b4bd-1104ecf9895c",
   "metadata": {},
   "outputs": [
    {
     "data": {
      "text/plain": [
       "'abcdefghijklmnopqrstuvwxyzABCDEFGHIJKLMNOPQRSTUVWXYZ'"
      ]
     },
     "execution_count": 15,
     "metadata": {},
     "output_type": "execute_result"
    }
   ],
   "source": [
    "alphabets=string.ascii_letters\n",
    "alphabets"
   ]
  },
  {
   "cell_type": "code",
   "execution_count": 16,
   "id": "970f89c4-78bf-4b42-a4a2-17204e09588d",
   "metadata": {},
   "outputs": [],
   "source": [
    "len=7\n",
    "a=generate_Strong_password(len)"
   ]
  },
  {
   "cell_type": "code",
   "execution_count": 17,
   "id": "7dc0a752-66f0-41ed-855a-c41639e69671",
   "metadata": {},
   "outputs": [
    {
     "data": {
      "text/plain": [
       "'lznfmpt'"
      ]
     },
     "execution_count": 17,
     "metadata": {},
     "output_type": "execute_result"
    }
   ],
   "source": [
    "a"
   ]
  },
  {
   "cell_type": "code",
   "execution_count": 19,
   "id": "479cd6ce-6b02-45ee-b3bd-7cf95d7a8068",
   "metadata": {},
   "outputs": [],
   "source": [
    "#Mixed of small and capital letters and number string passwords\n",
    "def generate_Strong_password(len):\n",
    "    alphabets_and_numbers=string.ascii_letters + string.digits\n",
    "    return''.join(random.choice(alphabets_and_numbers) for i in range(len))"
   ]
  },
  {
   "cell_type": "code",
   "execution_count": 20,
   "id": "51aa8d3f-7549-49c7-a659-9736f9bac1cc",
   "metadata": {},
   "outputs": [
    {
     "data": {
      "text/plain": [
       "'abcdefghijklmnopqrstuvwxyzABCDEFGHIJKLMNOPQRSTUVWXYZ0123456789'"
      ]
     },
     "execution_count": 20,
     "metadata": {},
     "output_type": "execute_result"
    }
   ],
   "source": [
    "alphabets_and_numbers=string.ascii_letters + string.digits\n",
    "alphabets_and_numbers"
   ]
  },
  {
   "cell_type": "code",
   "execution_count": 21,
   "id": "3bee16d1-8811-40d7-9990-b9d80a4bbf41",
   "metadata": {},
   "outputs": [],
   "source": [
    "len=9\n",
    "a=generate_Strong_password(len)"
   ]
  },
  {
   "cell_type": "code",
   "execution_count": 22,
   "id": "e4ade460-2470-4b24-ab4f-8743592ed6cd",
   "metadata": {},
   "outputs": [
    {
     "data": {
      "text/plain": [
       "'A3A3Zlgr1'"
      ]
     },
     "execution_count": 22,
     "metadata": {},
     "output_type": "execute_result"
    }
   ],
   "source": [
    "a"
   ]
  },
  {
   "cell_type": "code",
   "execution_count": 23,
   "id": "277dc0b1-9f65-435d-bbaf-0f34f6793f61",
   "metadata": {},
   "outputs": [],
   "source": [
    "#Mixed of small and capital letters number and symbol string passwords\n",
    "def generate_Strong_password(len):\n",
    "    password=string.ascii_letters + string.digits + string.punctuation\n",
    "    return''.join(random.choice(password) for i in range(len))"
   ]
  },
  {
   "cell_type": "code",
   "execution_count": 29,
   "id": "d863804c-c65c-4a6c-9f70-a2b2b7d3162f",
   "metadata": {},
   "outputs": [
    {
     "name": "stdout",
     "output_type": "stream",
     "text": [
      "5\n"
     ]
    }
   ],
   "source": [
    "def demo(a,b):\n",
    "    c=a+b\n",
    "    return c\n",
    "print(demo(2,3))"
   ]
  },
  {
   "cell_type": "code",
   "execution_count": 30,
   "id": "2673e973-c7ad-4208-bddc-69aa281c543e",
   "metadata": {},
   "outputs": [
    {
     "data": {
      "text/plain": [
       "'abcdefghijklmnopqrstuvwxyzABCDEFGHIJKLMNOPQRSTUVWXYZ0123456789!\"#$%&\\'()*+,-./:;<=>?@[\\\\]^_`{|}~'"
      ]
     },
     "execution_count": 30,
     "metadata": {},
     "output_type": "execute_result"
    }
   ],
   "source": [
    "password=string.ascii_letters+string.digits+string.punctuation\n",
    "password"
   ]
  },
  {
   "cell_type": "code",
   "execution_count": 31,
   "id": "10cf6bea-f251-46e7-a65c-c0dff341cd88",
   "metadata": {},
   "outputs": [],
   "source": [
    "len=9\n",
    "a=generate_Strong_password(len)"
   ]
  },
  {
   "cell_type": "code",
   "execution_count": 32,
   "id": "66492642-8e4e-40f8-bb38-899c68715faa",
   "metadata": {},
   "outputs": [
    {
     "data": {
      "text/plain": [
       "'Taj3g:0BD'"
      ]
     },
     "execution_count": 32,
     "metadata": {},
     "output_type": "execute_result"
    }
   ],
   "source": [
    "a"
   ]
  },
  {
   "cell_type": "code",
   "execution_count": null,
   "id": "63a5cecf-dac5-4d2c-a6a0-4a8b70326da9",
   "metadata": {},
   "outputs": [],
   "source": []
  }
 ],
 "metadata": {
  "kernelspec": {
   "display_name": "Python 3 (ipykernel)",
   "language": "python",
   "name": "python3"
  },
  "language_info": {
   "codemirror_mode": {
    "name": "ipython",
    "version": 3
   },
   "file_extension": ".py",
   "mimetype": "text/x-python",
   "name": "python",
   "nbconvert_exporter": "python",
   "pygments_lexer": "ipython3",
   "version": "3.12.1"
  }
 },
 "nbformat": 4,
 "nbformat_minor": 5
}
